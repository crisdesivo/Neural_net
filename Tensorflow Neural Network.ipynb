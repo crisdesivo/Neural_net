{
 "cells": [
  {
   "cell_type": "code",
   "execution_count": 1,
   "metadata": {},
   "outputs": [],
   "source": [
    "import numpy as np\n",
    "import tensorflow as tf\n",
    "import matplotlib.pyplot as plt\n",
    "\n",
    "class Neural_network_classifier:\n",
    "    def __init__(self, hidden_layers, test_x, test_y, learning_rate=0.5, activation='tanh'):\n",
    "        #Create own graph\n",
    "        self.graph=tf.Graph()\n",
    "        \n",
    "        #Save test set\n",
    "        self.test_x=test_x\n",
    "        self.test_y=test_y\n",
    "        \n",
    "        #Find input and output size\n",
    "        input_size=test_x.shape[1]\n",
    "        output_size=test_y.shape[1]\n",
    "        \n",
    "        with self.graph.as_default():\n",
    "            #Dimention of each layer of the net\n",
    "            layer_dim=[input_size]+hidden_layers+[output_size]\n",
    "            \n",
    "            #x and y_true placeholders\n",
    "            self.x = tf.placeholder(tf.float32, [None, input_size])\n",
    "            self.y_true = tf.placeholder(tf.float32, [None, output_size])\n",
    "            \n",
    "            #Activations\n",
    "            if activation == 'relu':\n",
    "                g=tf.nn.relu\n",
    "            elif activation == 'tanh':\n",
    "                g=tf.nn.tanh\n",
    "            elif activation == 'sigmoid':\n",
    "                g=tf.nn.sigmoid\n",
    "            \n",
    "            #inputs, and outputs of each hidden layer \n",
    "            aes=[self.x] \n",
    "            \n",
    "            #Parameters\n",
    "            weights=[]\n",
    "            biases=[]\n",
    "            \n",
    "            #hidden layers\n",
    "            for i in range(len(layer_dim)-2):\n",
    "                #Activation layers\n",
    "                weights.append(tf.Variable(tf.random_uniform([layer_dim[i], layer_dim[i+1]], minval=-layer_dim[i]**-1, maxval=layer_dim[i]**-1)))\n",
    "                biases.append(tf.Variable(tf.zeros([layer_dim[i+1]])))\n",
    "                aes.append(g(tf.matmul(aes[-1],weights[-1])+ biases[-1]))\n",
    "            \n",
    "            #Softmax activation layer\n",
    "            weights.append(tf.Variable(tf.random_uniform([layer_dim[-2], layer_dim[-1]], minval=-layer_dim[-2]**-1, maxval=layer_dim[-2]**-1)))\n",
    "            biases.append(tf.Variable(tf.zeros([layer_dim[-1]])))\n",
    "            logits=tf.matmul(aes[-1],weights[-1])+ biases[-1]\n",
    "            \n",
    "            if output_size>1:\n",
    "                self.y_pred = tf.nn.softmax(logits)\n",
    "            else:\n",
    "                self.y_pred = logits\n",
    "            \n",
    "            #Cost and optimizer\n",
    "            if output_size>1:\n",
    "                cross_entropy = tf.nn.softmax_cross_entropy_with_logits_v2(logits=logits, labels=self.y_true)\n",
    "            else:\n",
    "                cross_entropy=tf.square(self.y_pred-self.y_true)\n",
    "            self.cost = tf.reduce_mean(cross_entropy)\n",
    "            self.optimizer = tf.train.GradientDescentOptimizer(learning_rate=learning_rate).minimize(self.cost)\n",
    "            \n",
    "            #Calculate accuracy\n",
    "            if output_size>1:\n",
    "                correct_prediction = tf.equal(tf.argmax(self.y_pred, axis=1), tf.argmax(self.y_true, axis=1))\n",
    "            else:\n",
    "                correct_prediction = tf.equal(tf.round(self.y_pred), self.y_true)\n",
    "            self.accuracy = tf.reduce_mean(tf.cast(correct_prediction, tf.float32))\n",
    "            \n",
    "            #Start a session and initialize variables\n",
    "            self.sess=tf.Session()\n",
    "            self.sess.run(tf.global_variables_initializer())\n",
    "        \n",
    "        #Errors after each training iteration\n",
    "        self.train_errors=[]\n",
    "        self.test_errors=[]\n",
    "            \n",
    "    def train_batch(self, x, y):\n",
    "        feed_dict_train = {self.x: x, self.y_true: y}\n",
    "        #run optimizer with x, y \n",
    "        self.sess.run(self.optimizer, feed_dict=feed_dict_train)\n",
    "    \n",
    "    def train_batches(self, num_iterations, batches):\n",
    "        #train batch 0 and append it to X, Y\n",
    "        X=np.array(batches[0][0])\n",
    "        Y=np.array(batches[0][1])\n",
    "        self.train_batch(batches[0][0], batches[0][1])\n",
    "        for x, y in batches[1:]:\n",
    "        #train batch (x, y) and append it to X, Y\n",
    "            self.train_batch(x, y)\n",
    "            X=np.concatenate((X,x))\n",
    "            Y=np.concatenate((Y,y))\n",
    "        #append errors after first iteration\n",
    "        self.train_errors.append(self.sess.run(self.cost, feed_dict={self.x: X, self.y_true: Y}))\n",
    "        self.test_errors.append(self.sess.run(self.cost, feed_dict={self.x: self.test_x, self.y_true: self.test_y}))\n",
    "        \n",
    "        #repeat for the remaining iterations\n",
    "        for i in range(num_iterations-1):\n",
    "            for (x, y) in batches:\n",
    "                self.train_batch(x, y)\n",
    "            self.train_errors.append(self.sess.run(self.cost, feed_dict={self.x: X, self.y_true: Y}))\n",
    "            self.test_errors.append(self.sess.run(self.cost, feed_dict={self.x: self.test_x, self.y_true: self.test_y}))\n",
    "        \n",
    "    def split_batches(self, X, Y, batch_size):\n",
    "        n=X.shape[0]\n",
    "        num_batches=int(n/batch_size)\n",
    "        batches=[]\n",
    "        for i in range(num_batches):\n",
    "            x=X[i*batch_size:(i+1)*batch_size]\n",
    "            y=Y[i*batch_size:(i+1)*batch_size]\n",
    "            batches.append((x,y))\n",
    "        x=X[num_batches*batch_size:]\n",
    "        y=Y[num_batches*batch_size:]\n",
    "        batches.append((x,y))\n",
    "        return batches\n",
    "    \n",
    "    def train(self, X, Y, batch_size, num_iterations):\n",
    "        batches=self.split_batches(X, Y, batch_size)\n",
    "        self.train_batches(num_iterations, batches)\n",
    "    \n",
    "    def print_accuracy(self):\n",
    "        feed_dict_test = {self.x: self.test_x, self.y_true: self.test_y}\n",
    "        acc = self.sess.run(self.accuracy, feed_dict=feed_dict_test)\n",
    "        print(\"Accuracy on test set: \"+str(acc))\n",
    "    \n",
    "    def plot_errors(self):\n",
    "        plt.plot(self.train_errors)\n",
    "        plt.plot(self.test_errors)\n",
    "        plt.show()\n",
    "        \n",
    "    def predict(self, x):\n",
    "        y_pred = self.sess.run(self.y_pred, feed_dict={self.x:x})\n",
    "        if y_pred.shape[1]>1:\n",
    "            return np.argmax(y_pred)\n",
    "        else:\n",
    "            return np.round(y_pred)"
   ]
  },
  {
   "cell_type": "code",
   "execution_count": 2,
   "metadata": {
    "scrolled": false
   },
   "outputs": [
    {
     "data": {
      "image/png": "[encoded data removed]",
      "text/plain": [
       "<matplotlib.figure.Figure at 0x7f45dceb2ef0>"
      ]
     },
     "metadata": {},
     "output_type": "display_data"
    },
    {
     "data": {
      "text/plain": [
       "array([[ 1.],\n",
       "       [-1.],\n",
       "       [-1.],\n",
       "       [ 1.]], dtype=float32)"
      ]
     },
     "execution_count": 2,
     "metadata": {},
     "output_type": "execute_result"
    }
   ],
   "source": [
    "#XOR problem\n",
    "x=np.array([[-1,1], [-1,-1], [1,1], [1,-1]])\n",
    "y=np.array([[1], [-1], [-1], [1]])\n",
    "net=Neural_network_classifier([2], x, y, learning_rate=0.5, activation='tanh')\n",
    "net.train(x, y, 4, 100)\n",
    "net.plot_errors()\n",
    "net.predict(x)"
   ]
  },
  {
   "cell_type": "code",
   "execution_count": 3,
   "metadata": {},
   "outputs": [
    {
     "name": "stdout",
     "output_type": "stream",
     "text": [
      "Extracting data/MNIST/train-images-idx3-ubyte.gz\n",
      "Extracting data/MNIST/train-labels-idx1-ubyte.gz\n",
      "Extracting data/MNIST/t10k-images-idx3-ubyte.gz\n",
      "Extracting data/MNIST/t10k-labels-idx1-ubyte.gz\n"
     ]
    }
   ],
   "source": [
    "#MNIST dataset\n",
    "from tensorflow.examples.tutorials.mnist import input_data\n",
    "\n",
    "data = input_data.read_data_sets(\"data/MNIST/\", one_hot=True)"
   ]
  },
  {
   "cell_type": "code",
   "execution_count": 4,
   "metadata": {},
   "outputs": [
    {
     "name": "stdout",
     "output_type": "stream",
     "text": [
      "Accuracy on test set: 0.9129\n"
     ]
    }
   ],
   "source": [
    "net2=Neural_network_classifier([], data.test.images, data.test.labels)\n",
    "net2.train(data.train.images, data.train.labels, 1000, 5) #add more iterations for slightly better results\n",
    "net2.print_accuracy()"
   ]
  },
  {
   "cell_type": "code",
   "execution_count": 5,
   "metadata": {},
   "outputs": [
    {
     "data": {
      "image/png": "[encoded data removed]",
      "text/plain": [
       "<matplotlib.figure.Figure at 0x7f45d0fd6be0>"
      ]
     },
     "metadata": {},
     "output_type": "display_data"
    }
   ],
   "source": [
    "#Change the value of j to see different images and their classifications\n",
    "j=0\n",
    "plt.imshow(data.test.images[j].reshape([28,28]))\n",
    "plt.xlabel(str(net2.predict([data.test.images[j]])))\n",
    "plt.xticks([])\n",
    "plt.yticks([])\n",
    "plt.show()"
   ]
  }
 ],
 "metadata": {
  "kernelspec": {
   "display_name": "Python 3",
   "language": "python",
   "name": "python3"
  },
  "language_info": {
   "codemirror_mode": {
    "name": "ipython",
    "version": 3
   },
   "file_extension": ".py",
   "mimetype": "text/x-python",
   "name": "python",
   "nbconvert_exporter": "python",
   "pygments_lexer": "ipython3",
   "version": "3.5.2"
  }
 },
 "nbformat": 4,
 "nbformat_minor": 2
}
